{
 "cells": [
  {
   "cell_type": "code",
   "execution_count": 1,
   "id": "6cb6569b-8af7-456a-a08e-582ac463efab",
   "metadata": {},
   "outputs": [],
   "source": [
    "#tracking back to before cubids-apply renamed IntendedFor field in fmap jsons"
   ]
  },
  {
   "cell_type": "code",
   "execution_count": 2,
   "id": "fef9a5ca-c2e3-4b07-879b-ee204eab0a88",
   "metadata": {},
   "outputs": [],
   "source": [
    "#import packages\n",
    "import pandas as pd\n",
    "import numpy as np\n",
    "import os\n",
    "import bids\n",
    "from bids import BIDSLayout\n",
    "bids.config.set_option('extension_initial_dot', True)"
   ]
  },
  {
   "cell_type": "code",
   "execution_count": 3,
   "id": "0f1b520e-7d89-4935-a9f4-67cda6173824",
   "metadata": {},
   "outputs": [],
   "source": [
    "#set path:\n",
    "path='/cbica/projects/wolf_satterthwaite_reward/Margaret/Day2/curation/code/iterations'\n",
    "bids_path='/cbica/projects/wolf_satterthwaite_reward/Margaret/Day2/curation/BIDS'\n",
    "\n",
    "#initialize bids layout\n",
    "layout=BIDSLayout(bids_path)"
   ]
  },
  {
   "cell_type": "code",
   "execution_count": 4,
   "id": "d7fcfc6f-743b-4074-a55e-1fb746caadce",
   "metadata": {},
   "outputs": [],
   "source": [
    "df_bids=layout.to_df(bids_path)"
   ]
  },
  {
   "cell_type": "code",
   "execution_count": 5,
   "id": "1fecce53-a7fc-4aa3-9504-c2a55e598b00",
   "metadata": {},
   "outputs": [],
   "source": [
    "df_fmap=df_bids.dropna(subset=['fmap'])\n",
    "df_fmap=df_fmap[['subject', 'path', 'IntendedFor']]"
   ]
  },
  {
   "cell_type": "code",
   "execution_count": 6,
   "id": "05deb9fe-c6f2-45f3-93be-3152eff6000b",
   "metadata": {},
   "outputs": [
    {
     "data": {
      "text/plain": [
       "entity\n",
       "subject        472\n",
       "path           472\n",
       "IntendedFor    472\n",
       "dtype: int64"
      ]
     },
     "execution_count": 6,
     "metadata": {},
     "output_type": "execute_result"
    }
   ],
   "source": [
    "#list fmaps where IntendedFor has been renamed\n",
    "df_fmap.count()"
   ]
  },
  {
   "cell_type": "code",
   "execution_count": 7,
   "id": "075766bf-7d0f-459a-8c41-e94ee3be691d",
   "metadata": {},
   "outputs": [
    {
     "data": {
      "text/plain": [
       "entity\n",
       "subject        472\n",
       "path           472\n",
       "IntendedFor    472\n",
       "dtype: int64"
      ]
     },
     "execution_count": 7,
     "metadata": {},
     "output_type": "execute_result"
    }
   ],
   "source": [
    "df_fmap=df_fmap.dropna(subset=['IntendedFor'])\n",
    "df_fmap.count()"
   ]
  },
  {
   "cell_type": "code",
   "execution_count": 8,
   "id": "56e585aa-566e-49c1-bb3c-6ce7ff5c3876",
   "metadata": {},
   "outputs": [],
   "source": [
    "#df_fmap.to_csv(path+'/fmap_intended.csv', index=False)"
   ]
  },
  {
   "cell_type": "code",
   "execution_count": 9,
   "id": "446ca5a3-80c9-4a41-a9ce-99ce170e0232",
   "metadata": {},
   "outputs": [],
   "source": [
    "#intended=df_fmap['IntendedFor'].convert_dtypes(convert_string=True)"
   ]
  },
  {
   "cell_type": "code",
   "execution_count": 10,
   "id": "112d40e6-0877-4d82-ae9c-4048c70cd110",
   "metadata": {},
   "outputs": [],
   "source": [
    "#print(intended)"
   ]
  },
  {
   "cell_type": "code",
   "execution_count": 11,
   "id": "7d7b9c09-eb42-41f6-a574-82d07e351aad",
   "metadata": {},
   "outputs": [],
   "source": [
    "#intended.str.contains('func')"
   ]
  },
  {
   "cell_type": "code",
   "execution_count": 12,
   "id": "7767e80c-d949-4d55-9202-e60b953e4e38",
   "metadata": {},
   "outputs": [],
   "source": [
    "df_fmap['Intended']=[','.join(map(str, l)) for l in df_fmap['IntendedFor']]"
   ]
  },
  {
   "cell_type": "code",
   "execution_count": 13,
   "id": "31125b8e-78ab-4c3c-9826-626a46c86297",
   "metadata": {},
   "outputs": [
    {
     "data": {
      "text/html": [
       "<div>\n",
       "<style scoped>\n",
       "    .dataframe tbody tr th:only-of-type {\n",
       "        vertical-align: middle;\n",
       "    }\n",
       "\n",
       "    .dataframe tbody tr th {\n",
       "        vertical-align: top;\n",
       "    }\n",
       "\n",
       "    .dataframe thead th {\n",
       "        text-align: right;\n",
       "    }\n",
       "</style>\n",
       "<table border=\"1\" class=\"dataframe\">\n",
       "  <thead>\n",
       "    <tr style=\"text-align: right;\">\n",
       "      <th>entity</th>\n",
       "      <th>subject</th>\n",
       "      <th>path</th>\n",
       "      <th>IntendedFor</th>\n",
       "      <th>Intended</th>\n",
       "    </tr>\n",
       "  </thead>\n",
       "  <tbody>\n",
       "    <tr>\n",
       "      <th>4</th>\n",
       "      <td>10180</td>\n",
       "      <td>/cbica/projects/wolf_satterthwaite_reward/Marg...</td>\n",
       "      <td>[ses-day2/func/sub-10180_ses-day2_task-rest_bo...</td>\n",
       "      <td>ses-day2/func/sub-10180_ses-day2_task-rest_bol...</td>\n",
       "    </tr>\n",
       "    <tr>\n",
       "      <th>6</th>\n",
       "      <td>10180</td>\n",
       "      <td>/cbica/projects/wolf_satterthwaite_reward/Marg...</td>\n",
       "      <td>[ses-day2/func/sub-10180_ses-day2_task-rest_bo...</td>\n",
       "      <td>ses-day2/func/sub-10180_ses-day2_task-rest_bol...</td>\n",
       "    </tr>\n",
       "    <tr>\n",
       "      <th>8</th>\n",
       "      <td>10180</td>\n",
       "      <td>/cbica/projects/wolf_satterthwaite_reward/Marg...</td>\n",
       "      <td>[ses-day2/func/sub-10180_ses-day2_task-rest_bo...</td>\n",
       "      <td>ses-day2/func/sub-10180_ses-day2_task-rest_bol...</td>\n",
       "    </tr>\n",
       "    <tr>\n",
       "      <th>10</th>\n",
       "      <td>10180</td>\n",
       "      <td>/cbica/projects/wolf_satterthwaite_reward/Marg...</td>\n",
       "      <td>[ses-day2/func/sub-10180_ses-day2_task-rest_bo...</td>\n",
       "      <td>ses-day2/func/sub-10180_ses-day2_task-rest_bol...</td>\n",
       "    </tr>\n",
       "    <tr>\n",
       "      <th>24</th>\n",
       "      <td>109741</td>\n",
       "      <td>/cbica/projects/wolf_satterthwaite_reward/Marg...</td>\n",
       "      <td>[ses-day2/func/sub-109741_ses-day2_task-rest_b...</td>\n",
       "      <td>ses-day2/func/sub-109741_ses-day2_task-rest_bo...</td>\n",
       "    </tr>\n",
       "  </tbody>\n",
       "</table>\n",
       "</div>"
      ],
      "text/plain": [
       "entity subject                                               path  \\\n",
       "4        10180  /cbica/projects/wolf_satterthwaite_reward/Marg...   \n",
       "6        10180  /cbica/projects/wolf_satterthwaite_reward/Marg...   \n",
       "8        10180  /cbica/projects/wolf_satterthwaite_reward/Marg...   \n",
       "10       10180  /cbica/projects/wolf_satterthwaite_reward/Marg...   \n",
       "24      109741  /cbica/projects/wolf_satterthwaite_reward/Marg...   \n",
       "\n",
       "entity                                        IntendedFor  \\\n",
       "4       [ses-day2/func/sub-10180_ses-day2_task-rest_bo...   \n",
       "6       [ses-day2/func/sub-10180_ses-day2_task-rest_bo...   \n",
       "8       [ses-day2/func/sub-10180_ses-day2_task-rest_bo...   \n",
       "10      [ses-day2/func/sub-10180_ses-day2_task-rest_bo...   \n",
       "24      [ses-day2/func/sub-109741_ses-day2_task-rest_b...   \n",
       "\n",
       "entity                                           Intended  \n",
       "4       ses-day2/func/sub-10180_ses-day2_task-rest_bol...  \n",
       "6       ses-day2/func/sub-10180_ses-day2_task-rest_bol...  \n",
       "8       ses-day2/func/sub-10180_ses-day2_task-rest_bol...  \n",
       "10      ses-day2/func/sub-10180_ses-day2_task-rest_bol...  \n",
       "24      ses-day2/func/sub-109741_ses-day2_task-rest_bo...  "
      ]
     },
     "execution_count": 13,
     "metadata": {},
     "output_type": "execute_result"
    }
   ],
   "source": [
    "df_fmap.head()"
   ]
  },
  {
   "cell_type": "code",
   "execution_count": 14,
   "id": "7f773869-af9d-4774-861c-15f5e455463e",
   "metadata": {},
   "outputs": [],
   "source": [
    "df_var=df_fmap[df_fmap['Intended'].str.contains('VARIANT')]"
   ]
  },
  {
   "cell_type": "code",
   "execution_count": 15,
   "id": "b3eaf3fa-23ce-4dd5-87a4-ec04d57e2f9a",
   "metadata": {},
   "outputs": [
    {
     "data": {
      "text/plain": [
       "entity\n",
       "subject        0\n",
       "path           0\n",
       "IntendedFor    0\n",
       "Intended       0\n",
       "dtype: int64"
      ]
     },
     "execution_count": 15,
     "metadata": {},
     "output_type": "execute_result"
    }
   ],
   "source": [
    "df_var.count()"
   ]
  },
  {
   "cell_type": "code",
   "execution_count": null,
   "id": "fd3ff41c-ce94-44d7-b62a-b609a4709169",
   "metadata": {},
   "outputs": [],
   "source": []
  }
 ],
 "metadata": {
  "kernelspec": {
   "display_name": "Python 3 (ipykernel)",
   "language": "python",
   "name": "python3"
  },
  "language_info": {
   "codemirror_mode": {
    "name": "ipython",
    "version": 3
   },
   "file_extension": ".py",
   "mimetype": "text/x-python",
   "name": "python",
   "nbconvert_exporter": "python",
   "pygments_lexer": "ipython3",
   "version": "3.8.11"
  }
 },
 "nbformat": 4,
 "nbformat_minor": 5
}
