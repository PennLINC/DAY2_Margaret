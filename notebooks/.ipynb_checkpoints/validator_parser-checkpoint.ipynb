{
 "cells": [
  {
   "cell_type": "code",
   "execution_count": 1,
   "id": "545f67b9-3f86-46c1-b666-2a16ee677eb2",
   "metadata": {},
   "outputs": [],
   "source": [
    "#slightly more generic versino of validator_err_counts.ipynb \n",
    "#to summarize outputs of CuBIDS validator"
   ]
  },
  {
   "cell_type": "code",
   "execution_count": 2,
   "id": "f58d57d2-46a0-4aad-8c87-c969913ca73a",
   "metadata": {},
   "outputs": [],
   "source": [
    "#import packages\n",
    "import pandas as pd\n",
    "import numpy as np\n",
    "import os\n",
    "import bids\n",
    "from bids import BIDSLayout\n",
    "bids.config.set_option('extension_initial_dot', True)"
   ]
  },
  {
   "cell_type": "code",
   "execution_count": 3,
   "id": "121ba680-af61-4baf-afc5-818608c6afc0",
   "metadata": {},
   "outputs": [],
   "source": [
    "#set path:\n",
    "path='/cbica/projects/wolf_satterthwaite_reward/Margaret/Day2/curation/code/sandbox/validator_outputs'\n",
    "bids_path='/cbica/projects/wolf_satterthwaite_reward/Margaret/Day2/curation/BIDS'\n",
    "\n",
    "prefix='iter5'\n",
    "\n",
    "#initialize bids layout\n",
    "layout=BIDSLayout(bids_path)\n",
    "\n",
    "#define df\n",
    "df=pd.read_csv(path+'/'+prefix+'_validation.csv')"
   ]
  },
  {
   "cell_type": "code",
   "execution_count": 4,
   "id": "459140af-bb3e-488f-bc9e-71b61511ad60",
   "metadata": {},
   "outputs": [
    {
     "name": "stdout",
     "output_type": "stream",
     "text": [
      "number of errors returned: 0\n"
     ]
    }
   ],
   "source": [
    "num_er=np.sum(df['severity']=='error')\n",
    "print('number of errors returned:', num_er)"
   ]
  },
  {
   "cell_type": "code",
   "execution_count": 5,
   "id": "edd9bb58-e073-410f-add6-89cb08bea43f",
   "metadata": {},
   "outputs": [
    {
     "name": "stdout",
     "output_type": "stream",
     "text": [
      "number of warnings returned: 497\n"
     ]
    }
   ],
   "source": [
    "num_war=np.sum(df['severity']=='warning')\n",
    "print('number of warnings returned:', num_war)"
   ]
  },
  {
   "cell_type": "code",
   "execution_count": 6,
   "id": "4b1e4259-5009-4a62-b1a9-85310583e2bf",
   "metadata": {},
   "outputs": [
    {
     "name": "stdout",
     "output_type": "stream",
     "text": [
      "EVENTS_TSV_MISSING ( Task scans should have a corresponding events.tsv file. If this is a resting state scan you can ignore this warning or rename the task to include the word \"rest\". ) : 495 subjects\n",
      "README_FILE_MISSING ( The recommended file /README is missing. See Section 03 (Modality agnostic files) of the BIDS specification. ) : 1 subjects\n",
      "NO_AUTHORS ( The Authors field of dataset_description.json should contain an array of fields - with one author per field. This was triggered because there are no authors, which will make DOI registration from dataset metadata impossible. ) : 1 subjects\n"
     ]
    }
   ],
   "source": [
    "df_war=df[df['severity']=='warning']\n",
    "war_type=df_war['type'].unique()\n",
    "\n",
    "for warning in war_type:\n",
    "    num_war_type=np.sum(df_war['type']==warning)\n",
    "    descrip=df_war.loc[df['type'] == warning, 'description'].unique()\n",
    "    dprint=' '.join(map(str, descrip))\n",
    "    print(warning,'(',dprint,')', ':', num_war_type, 'counts')"
   ]
  },
  {
   "cell_type": "code",
   "execution_count": null,
   "id": "ddfd9005-16f7-4dcf-ab4e-e4501907b7d3",
   "metadata": {},
   "outputs": [],
   "source": []
  }
 ],
 "metadata": {
  "kernelspec": {
   "display_name": "Python 3 (ipykernel)",
   "language": "python",
   "name": "python3"
  },
  "language_info": {
   "codemirror_mode": {
    "name": "ipython",
    "version": 3
   },
   "file_extension": ".py",
   "mimetype": "text/x-python",
   "name": "python",
   "nbconvert_exporter": "python",
   "pygments_lexer": "ipython3",
   "version": "3.8.11"
  }
 },
 "nbformat": 4,
 "nbformat_minor": 5
}
