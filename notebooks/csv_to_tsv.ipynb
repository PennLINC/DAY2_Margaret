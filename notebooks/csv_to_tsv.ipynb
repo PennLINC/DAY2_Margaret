{
 "cells": [
  {
   "cell_type": "code",
   "execution_count": 16,
   "id": "8916125c-4ee3-4410-97c3-2a2e3d31c840",
   "metadata": {},
   "outputs": [],
   "source": [
    "#code to convert .csv timing files to bids-compatible .tsv event files\n",
    "\n",
    "#import packages\n",
    "import pandas as pd\n",
    "import numpy as np\n",
    "import os\n",
    "import glob"
   ]
  },
  {
   "cell_type": "code",
   "execution_count": 17,
   "id": "93645de2-edf4-4263-ba6b-b8be1f144d6b",
   "metadata": {},
   "outputs": [],
   "source": [
    "#set path to all csvs in dir\n",
    "path='/cbica/projects/wolf_satterthwaite_reward/Margaret/Day2/curation/code/Day2MG_GitHub/'"
   ]
  },
  {
   "cell_type": "code",
   "execution_count": 25,
   "id": "66b14649-4690-4d59-83a0-503a4084350b",
   "metadata": {},
   "outputs": [],
   "source": [
    "for fname in glob.glob(path+'*.csv'):\n",
    "    df=pd.read_csv(fname)\n",
    "    file=fname.partition(\".\")[0]\n",
    "    with open(file+'.tsv','w') as write_tsv:\n",
    "        write_tsv.write(df.to_csv(sep='\\t', index=False))    "
   ]
  }
 ],
 "metadata": {
  "kernelspec": {
   "display_name": "Python 3 (ipykernel)",
   "language": "python",
   "name": "python3"
  },
  "language_info": {
   "codemirror_mode": {
    "name": "ipython",
    "version": 3
   },
   "file_extension": ".py",
   "mimetype": "text/x-python",
   "name": "python",
   "nbconvert_exporter": "python",
   "pygments_lexer": "ipython3",
   "version": "3.8.11"
  }
 },
 "nbformat": 4,
 "nbformat_minor": 5
}
