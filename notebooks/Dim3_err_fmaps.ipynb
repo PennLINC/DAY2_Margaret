{
 "cells": [
  {
   "cell_type": "code",
   "execution_count": 20,
   "id": "24eca685-9780-4046-95b2-b1e2f638e73e",
   "metadata": {},
   "outputs": [],
   "source": [
    "#generate summary info for CuBIDs validator & info on groupings\n",
    "\n",
    "#import packages\n",
    "import pandas as pd\n",
    "import numpy as np\n",
    "import os\n",
    "import bids\n",
    "from bids import BIDSLayout\n",
    "bids.config.set_option('extension_initial_dot', True)"
   ]
  },
  {
   "cell_type": "code",
   "execution_count": 21,
   "id": "4362e865-af7e-4a49-b4b8-2421befc3080",
   "metadata": {},
   "outputs": [],
   "source": [
    "#set path:\n",
    "path='/cbica/projects/wolf_satterthwaite_reward/Margaret/Day2/curation/code/'\n",
    "bids_path='/cbica/projects/wolf_satterthwaite_reward/Margaret/Day2/curation/BIDS'\n",
    "iteration='4'\n",
    "prefix='iter4'\n",
    "\n",
    "#initialize bids layout\n",
    "layout=BIDSLayout(bids_path)"
   ]
  },
  {
   "cell_type": "code",
   "execution_count": 22,
   "id": "186f60d2-d9cc-4a6b-b45a-c6b1a53ec50d",
   "metadata": {},
   "outputs": [],
   "source": [
    "df_files=pd.read_csv(path+'iterations/iteration'+iteration+'/'+prefix+'_files.csv')"
   ]
  },
  {
   "cell_type": "code",
   "execution_count": 23,
   "id": "6476f524-4ff4-420b-935c-8c6282cb81c0",
   "metadata": {},
   "outputs": [],
   "source": [
    "df_fmap=df_files[df_files['Modality']=='fmap']"
   ]
  },
  {
   "cell_type": "code",
   "execution_count": 24,
   "id": "54952acb-0718-44a3-a411-b6bd4e933a90",
   "metadata": {},
   "outputs": [],
   "source": [
    "df_files=df_fmap[['FilePath']]"
   ]
  },
  {
   "cell_type": "code",
   "execution_count": 25,
   "id": "2c9a8e07-aeef-4044-a65d-42ff1f4ec856",
   "metadata": {},
   "outputs": [
    {
     "name": "stderr",
     "output_type": "stream",
     "text": [
      "/scratch/wolfsatterthwaitereward/tmp.WL1HnBKnz7/ipykernel_48048/3711821089.py:1: SettingWithCopyWarning: \n",
      "A value is trying to be set on a copy of a slice from a DataFrame.\n",
      "Try using .loc[row_indexer,col_indexer] = value instead\n",
      "\n",
      "See the caveats in the documentation: https://pandas.pydata.org/pandas-docs/stable/user_guide/indexing.html#returning-a-view-versus-a-copy\n",
      "  df_files['Subject']=df_files['FilePath'].str.split('\\/').str[8]\n"
     ]
    }
   ],
   "source": [
    "df_files['Subject']=df_files['FilePath'].str.split('\\/').str[8]\n",
    "#df_files.head(5)"
   ]
  },
  {
   "cell_type": "code",
   "execution_count": 26,
   "id": "9d870a38-42d2-4de2-b05c-ac34a5fbe9bf",
   "metadata": {},
   "outputs": [],
   "source": [
    "df_fdrop=df_files[(df_files.Subject == 'sub-15546') | (df_files.Subject == 'sub-16181') | (df_files.Subject == 'sub-12235')]\n",
    "#df_fdrop.head(10)"
   ]
  },
  {
   "cell_type": "code",
   "execution_count": 28,
   "id": "fdf2a01f-fd48-4c09-b696-76e22ba186c0",
   "metadata": {},
   "outputs": [],
   "source": [
    "#list of incomplete fmaps to .txt file for removal by cubids-purge\n",
    "bad_fmaps=df_fdrop['FilePath'].tolist()\n",
    "with open(path+'sandbox/fmap_to_rm2.txt', 'w') as f:\n",
    "    f.write(\"\\n\".join(bad_fmaps))"
   ]
  },
  {
   "cell_type": "code",
   "execution_count": null,
   "id": "cc179eea-2ea0-4890-9126-60ef762d1e6e",
   "metadata": {},
   "outputs": [],
   "source": []
  }
 ],
 "metadata": {
  "kernelspec": {
   "display_name": "Python 3 (ipykernel)",
   "language": "python",
   "name": "python3"
  },
  "language_info": {
   "codemirror_mode": {
    "name": "ipython",
    "version": 3
   },
   "file_extension": ".py",
   "mimetype": "text/x-python",
   "name": "python",
   "nbconvert_exporter": "python",
   "pygments_lexer": "ipython3",
   "version": "3.8.11"
  }
 },
 "nbformat": 4,
 "nbformat_minor": 5
}
