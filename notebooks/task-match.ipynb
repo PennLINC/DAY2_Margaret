{
 "cells": [
  {
   "cell_type": "code",
   "execution_count": 6,
   "id": "b88ab0ff-1d52-4176-8d8a-bfb9a3504366",
   "metadata": {},
   "outputs": [],
   "source": [
    "#generate summary info for CuBIDs validator\n",
    "\n",
    "#import packages\n",
    "import pandas as pd\n",
    "import numpy as np\n",
    "import os\n",
    "import bids\n",
    "from bids import BIDSLayout\n",
    "bids.config.set_option('extension_initial_dot', True)"
   ]
  },
  {
   "cell_type": "code",
   "execution_count": 7,
   "id": "d9a170b7-cac4-401b-bada-f7e7e8f36181",
   "metadata": {},
   "outputs": [],
   "source": [
    "#set path:\n",
    "bids_path='/cbica/projects/wolf_satterthwaite_reward/Margaret/Day2/curation/BIDS'\n",
    "iteration='1.2'\n",
    "prefix='d2_r2'\n",
    "\n",
    "#initialize bids layout\n",
    "layout=BIDSLayout(bids_path)"
   ]
  },
  {
   "cell_type": "code",
   "execution_count": 8,
   "id": "ee6e431e-0ea0-4c18-9a92-b28655e7c615",
   "metadata": {},
   "outputs": [],
   "source": [
    "df_bids=layout.to_df(bids_path)"
   ]
  },
  {
   "cell_type": "code",
   "execution_count": 9,
   "id": "94fb3771-7844-4a29-ab69-baf6dfbf6c69",
   "metadata": {},
   "outputs": [
    {
     "name": "stdout",
     "output_type": "stream",
     "text": [
      "[nan 1 2]\n"
     ]
    }
   ],
   "source": [
    "run_opt=df_bids['run'].unique()\n",
    "print(run_opt)"
   ]
  },
  {
   "cell_type": "code",
   "execution_count": 17,
   "id": "606a10b2-606c-4960-a318-a910c879f943",
   "metadata": {},
   "outputs": [
    {
     "data": {
      "text/plain": [
       "array(['bbl1_cardA0_178', 'bbl1_faceA0_178'], dtype=object)"
      ]
     },
     "execution_count": 17,
     "metadata": {},
     "output_type": "execute_result"
    }
   ],
   "source": [
    "df_func=df_bids[df_bids['datatype']=='func']\n",
    "df_func=df_func[df_func['extension']=='.nii.gz']\n",
    "df_func.loc[df_func['run'] == 1, 'SeriesDescription'].unique()"
   ]
  },
  {
   "cell_type": "code",
   "execution_count": 18,
   "id": "7bfb36b0-13d6-415b-b3fc-844fec759300",
   "metadata": {},
   "outputs": [
    {
     "data": {
      "text/plain": [
       "array(['bbl1_cardB0_178', 'bbl1_faceB0_178'], dtype=object)"
      ]
     },
     "execution_count": 18,
     "metadata": {},
     "output_type": "execute_result"
    }
   ],
   "source": [
    "df_func.loc[df_func['run'] == 2, 'SeriesDescription'].unique()"
   ]
  },
  {
   "cell_type": "code",
   "execution_count": null,
   "id": "d008b194-1b5a-4ac9-9691-84a5f8b1fd94",
   "metadata": {},
   "outputs": [],
   "source": []
  },
  {
   "cell_type": "code",
   "execution_count": null,
   "id": "26b953be-0086-4941-93cd-59479bd94588",
   "metadata": {},
   "outputs": [],
   "source": []
  }
 ],
 "metadata": {
  "kernelspec": {
   "display_name": "Python 3 (ipykernel)",
   "language": "python",
   "name": "python3"
  },
  "language_info": {
   "codemirror_mode": {
    "name": "ipython",
    "version": 3
   },
   "file_extension": ".py",
   "mimetype": "text/x-python",
   "name": "python",
   "nbconvert_exporter": "python",
   "pygments_lexer": "ipython3",
   "version": "3.8.11"
  }
 },
 "nbformat": 4,
 "nbformat_minor": 5
}
