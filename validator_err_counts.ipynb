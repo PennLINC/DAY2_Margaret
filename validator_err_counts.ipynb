{
 "cells": [
  {
   "cell_type": "code",
   "execution_count": 149,
   "id": "24eca685-9780-4046-95b2-b1e2f638e73e",
   "metadata": {},
   "outputs": [],
   "source": [
    "#generate summary info for CuBIDs validator\n",
    "\n",
    "#import packages\n",
    "import pandas as pd\n",
    "import numpy as np\n",
    "import os"
   ]
  },
  {
   "cell_type": "code",
   "execution_count": 150,
   "id": "4362e865-af7e-4a49-b4b8-2421befc3080",
   "metadata": {},
   "outputs": [],
   "source": [
    "#set path:\n",
    "path='/cbica/projects/wolf_satterthwaite_reward/Margaret/Day2/curation/code/sandbox/validator_outputs'\n",
    "prefix='d2'\n",
    "\n",
    "#define df\n",
    "df=pd.read_csv(path+'/'+prefix+'_validation.csv')"
   ]
  },
  {
   "cell_type": "code",
   "execution_count": 151,
   "id": "bd9949e7-32de-4308-b7be-c494cb217136",
   "metadata": {},
   "outputs": [
    {
     "name": "stdout",
     "output_type": "stream",
     "text": [
      "0\n"
     ]
    }
   ],
   "source": [
    "num_er=np.sum(df['severity']=='error')\n",
    "print(num_er)"
   ]
  },
  {
   "cell_type": "code",
   "execution_count": 152,
   "id": "21527232-915a-4bae-9759-7d8b0cf3da26",
   "metadata": {},
   "outputs": [
    {
     "name": "stdout",
     "output_type": "stream",
     "text": [
      "1327\n"
     ]
    }
   ],
   "source": [
    "num_war=np.sum(df['severity']=='warning')\n",
    "print(num_war)"
   ]
  },
  {
   "cell_type": "code",
   "execution_count": 153,
   "id": "83fe4ae9-d7b2-49b2-821b-9afadda4cfb7",
   "metadata": {},
   "outputs": [],
   "source": [
    "df_war=df[df['severity']=='warning']"
   ]
  },
  {
   "cell_type": "code",
   "execution_count": 154,
   "id": "1f5056d8-3ae5-48fa-8ca1-58f7f0aee21c",
   "metadata": {},
   "outputs": [
    {
     "name": "stdout",
     "output_type": "stream",
     "text": [
      "['EVENTS_TSV_MISSING' 'INCONSISTENT_SUBJECTS' 'INCONSISTENT_PARAMETERS'\n",
      " 'README_FILE_MISSING' 'NO_AUTHORS']\n"
     ]
    }
   ],
   "source": [
    "war_type=df_war['type'].unique()\n",
    "print(war_type)"
   ]
  },
  {
   "cell_type": "code",
   "execution_count": 155,
   "id": "5db1f5dd-2e52-4ef7-ac22-ca367e66d3ea",
   "metadata": {},
   "outputs": [
    {
     "name": "stdout",
     "output_type": "stream",
     "text": [
      "EVENTS_TSV_MISSING ( Task scans should have a corresponding events.tsv file. If this is a resting state scan you can ignore this warning or rename the task to include the word \"rest\". ) : 495 subjects\n",
      "INCONSISTENT_SUBJECTS ( Not all subjects contain the same files. Each subject should contain the same number of files with the same naming unless some files are known to be missing. ) : 806 subjects\n",
      "INCONSISTENT_PARAMETERS ( Not all subjects/sessions/runs have the same scanning parameters. ) : 24 subjects\n",
      "README_FILE_MISSING ( The recommended file /README is missing. See Section 03 (Modality agnostic files) of the BIDS specification. ) : 1 subjects\n",
      "NO_AUTHORS ( The Authors field of dataset_description.json should contain an array of fields - with one author per field. This was triggered because there are no authors, which will make DOI registration from dataset metadata impossible. ) : 1 subjects\n"
     ]
    }
   ],
   "source": [
    "for warning in war_type:\n",
    "    num_war_type=np.sum(df_war['type']==warning)\n",
    "    descrip=df_war.loc[df['type'] == warning, 'description'].unique()\n",
    "    dprint=' '.join(map(str, descrip))\n",
    "    print(warning,'(',dprint,')', ':', num_war_type, 'subjects')"
   ]
  }
 ],
 "metadata": {
  "kernelspec": {
   "display_name": "Python 3 (ipykernel)",
   "language": "python",
   "name": "python3"
  },
  "language_info": {
   "codemirror_mode": {
    "name": "ipython",
    "version": 3
   },
   "file_extension": ".py",
   "mimetype": "text/x-python",
   "name": "python",
   "nbconvert_exporter": "python",
   "pygments_lexer": "ipython3",
   "version": "3.8.11"
  }
 },
 "nbformat": 4,
 "nbformat_minor": 5
}
